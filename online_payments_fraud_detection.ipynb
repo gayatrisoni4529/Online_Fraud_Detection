{
  "cells": [
    {
      "cell_type": "code",
      "source": [
        "from google.colab import drive\n",
        "drive.mount('/content/drive')"
      ],
      "metadata": {
        "colab": {
          "base_uri": "https://localhost:8080/"
        },
        "id": "xeIuNN8zV0Qg",
        "outputId": "3113ce48-0ada-468d-b83b-c932e678b4ee"
      },
      "id": "xeIuNN8zV0Qg",
      "execution_count": 1,
      "outputs": [
        {
          "output_type": "stream",
          "name": "stdout",
          "text": [
            "Mounted at /content/drive\n"
          ]
        }
      ]
    },
    {
      "cell_type": "code",
      "source": [
        "import pandas as pd\n",
        "df=pd.read_csv('/content/PS_20174392719_1491204439457_log.csv')"
      ],
      "metadata": {
        "id": "Po5jsGTRWjym"
      },
      "id": "Po5jsGTRWjym",
      "execution_count": 3,
      "outputs": []
    },
    {
      "cell_type": "code",
      "execution_count": 4,
      "id": "75943868",
      "metadata": {
        "execution": {
          "iopub.execute_input": "2022-08-17T22:06:59.568045Z",
          "iopub.status.busy": "2022-08-17T22:06:59.567599Z",
          "iopub.status.idle": "2022-08-17T22:07:01.057474Z",
          "shell.execute_reply": "2022-08-17T22:07:01.056368Z"
        },
        "papermill": {
          "duration": 1.501206,
          "end_time": "2022-08-17T22:07:01.060221",
          "exception": false,
          "start_time": "2022-08-17T22:06:59.559015",
          "status": "completed"
        },
        "tags": [],
        "id": "75943868"
      },
      "outputs": [],
      "source": [
        "#importing required libraries\n",
        "import pandas as pd\n",
        "import numpy as np\n",
        "import plotly.express as px\n"
      ]
    },
    {
      "cell_type": "markdown",
      "id": "ef5db7b8",
      "metadata": {
        "papermill": {
          "duration": 0.004436,
          "end_time": "2022-08-17T22:07:01.069824",
          "exception": false,
          "start_time": "2022-08-17T22:07:01.065388",
          "status": "completed"
        },
        "tags": [],
        "id": "ef5db7b8"
      },
      "source": [
        "The below column reference:\n",
        "\n",
        "- step: represents a unit of time where 1 step equals 1 hour\n",
        "- type: type of online transaction\n",
        "- amount: the amount of the transaction\n",
        "- nameOrig: customer starting the transaction\n",
        "- oldbalanceOrg: balance before the transaction\n",
        "- newbalanceOrig: balance after the transaction\n",
        "- nameDest: recipient of the transaction\n",
        "- oldbalanceDest: initial balance of recipient before the transaction\n",
        "- newbalanceDest: the new balance of recipient after the transaction\n",
        "- isFraud: fraud transaction"
      ]
    },
    {
      "cell_type": "code",
      "execution_count": 5,
      "id": "9b3a765e",
      "metadata": {
        "execution": {
          "iopub.execute_input": "2022-08-17T22:07:01.081543Z",
          "iopub.status.busy": "2022-08-17T22:07:01.080535Z",
          "iopub.status.idle": "2022-08-17T22:07:20.611153Z",
          "shell.execute_reply": "2022-08-17T22:07:20.609927Z"
        },
        "papermill": {
          "duration": 19.539551,
          "end_time": "2022-08-17T22:07:20.614060",
          "exception": false,
          "start_time": "2022-08-17T22:07:01.074509",
          "status": "completed"
        },
        "tags": [],
        "colab": {
          "base_uri": "https://localhost:8080/",
          "height": 206
        },
        "id": "9b3a765e",
        "outputId": "28f464db-92a1-4373-aa21-eb5720433d19"
      },
      "outputs": [
        {
          "output_type": "execute_result",
          "data": {
            "text/plain": [
              "   step      type    amount     nameOrig  oldbalanceOrg  newbalanceOrig  \\\n",
              "0     1   PAYMENT   9839.64  C1231006815       170136.0       160296.36   \n",
              "1     1   PAYMENT   1864.28  C1666544295        21249.0        19384.72   \n",
              "2     1  TRANSFER    181.00  C1305486145          181.0            0.00   \n",
              "3     1  CASH_OUT    181.00   C840083671          181.0            0.00   \n",
              "4     1   PAYMENT  11668.14  C2048537720        41554.0        29885.86   \n",
              "\n",
              "      nameDest  oldbalanceDest  newbalanceDest  isFraud  isFlaggedFraud  \n",
              "0  M1979787155             0.0             0.0      0.0             0.0  \n",
              "1  M2044282225             0.0             0.0      0.0             0.0  \n",
              "2   C553264065             0.0             0.0      1.0             0.0  \n",
              "3    C38997010         21182.0             0.0      1.0             0.0  \n",
              "4  M1230701703             0.0             0.0      0.0             0.0  "
            ],
            "text/html": [
              "\n",
              "  <div id=\"df-01f61c87-f3b6-4e15-9408-6642907928e4\">\n",
              "    <div class=\"colab-df-container\">\n",
              "      <div>\n",
              "<style scoped>\n",
              "    .dataframe tbody tr th:only-of-type {\n",
              "        vertical-align: middle;\n",
              "    }\n",
              "\n",
              "    .dataframe tbody tr th {\n",
              "        vertical-align: top;\n",
              "    }\n",
              "\n",
              "    .dataframe thead th {\n",
              "        text-align: right;\n",
              "    }\n",
              "</style>\n",
              "<table border=\"1\" class=\"dataframe\">\n",
              "  <thead>\n",
              "    <tr style=\"text-align: right;\">\n",
              "      <th></th>\n",
              "      <th>step</th>\n",
              "      <th>type</th>\n",
              "      <th>amount</th>\n",
              "      <th>nameOrig</th>\n",
              "      <th>oldbalanceOrg</th>\n",
              "      <th>newbalanceOrig</th>\n",
              "      <th>nameDest</th>\n",
              "      <th>oldbalanceDest</th>\n",
              "      <th>newbalanceDest</th>\n",
              "      <th>isFraud</th>\n",
              "      <th>isFlaggedFraud</th>\n",
              "    </tr>\n",
              "  </thead>\n",
              "  <tbody>\n",
              "    <tr>\n",
              "      <th>0</th>\n",
              "      <td>1</td>\n",
              "      <td>PAYMENT</td>\n",
              "      <td>9839.64</td>\n",
              "      <td>C1231006815</td>\n",
              "      <td>170136.0</td>\n",
              "      <td>160296.36</td>\n",
              "      <td>M1979787155</td>\n",
              "      <td>0.0</td>\n",
              "      <td>0.0</td>\n",
              "      <td>0.0</td>\n",
              "      <td>0.0</td>\n",
              "    </tr>\n",
              "    <tr>\n",
              "      <th>1</th>\n",
              "      <td>1</td>\n",
              "      <td>PAYMENT</td>\n",
              "      <td>1864.28</td>\n",
              "      <td>C1666544295</td>\n",
              "      <td>21249.0</td>\n",
              "      <td>19384.72</td>\n",
              "      <td>M2044282225</td>\n",
              "      <td>0.0</td>\n",
              "      <td>0.0</td>\n",
              "      <td>0.0</td>\n",
              "      <td>0.0</td>\n",
              "    </tr>\n",
              "    <tr>\n",
              "      <th>2</th>\n",
              "      <td>1</td>\n",
              "      <td>TRANSFER</td>\n",
              "      <td>181.00</td>\n",
              "      <td>C1305486145</td>\n",
              "      <td>181.0</td>\n",
              "      <td>0.00</td>\n",
              "      <td>C553264065</td>\n",
              "      <td>0.0</td>\n",
              "      <td>0.0</td>\n",
              "      <td>1.0</td>\n",
              "      <td>0.0</td>\n",
              "    </tr>\n",
              "    <tr>\n",
              "      <th>3</th>\n",
              "      <td>1</td>\n",
              "      <td>CASH_OUT</td>\n",
              "      <td>181.00</td>\n",
              "      <td>C840083671</td>\n",
              "      <td>181.0</td>\n",
              "      <td>0.00</td>\n",
              "      <td>C38997010</td>\n",
              "      <td>21182.0</td>\n",
              "      <td>0.0</td>\n",
              "      <td>1.0</td>\n",
              "      <td>0.0</td>\n",
              "    </tr>\n",
              "    <tr>\n",
              "      <th>4</th>\n",
              "      <td>1</td>\n",
              "      <td>PAYMENT</td>\n",
              "      <td>11668.14</td>\n",
              "      <td>C2048537720</td>\n",
              "      <td>41554.0</td>\n",
              "      <td>29885.86</td>\n",
              "      <td>M1230701703</td>\n",
              "      <td>0.0</td>\n",
              "      <td>0.0</td>\n",
              "      <td>0.0</td>\n",
              "      <td>0.0</td>\n",
              "    </tr>\n",
              "  </tbody>\n",
              "</table>\n",
              "</div>\n",
              "      <button class=\"colab-df-convert\" onclick=\"convertToInteractive('df-01f61c87-f3b6-4e15-9408-6642907928e4')\"\n",
              "              title=\"Convert this dataframe to an interactive table.\"\n",
              "              style=\"display:none;\">\n",
              "        \n",
              "  <svg xmlns=\"http://www.w3.org/2000/svg\" height=\"24px\"viewBox=\"0 0 24 24\"\n",
              "       width=\"24px\">\n",
              "    <path d=\"M0 0h24v24H0V0z\" fill=\"none\"/>\n",
              "    <path d=\"M18.56 5.44l.94 2.06.94-2.06 2.06-.94-2.06-.94-.94-2.06-.94 2.06-2.06.94zm-11 1L8.5 8.5l.94-2.06 2.06-.94-2.06-.94L8.5 2.5l-.94 2.06-2.06.94zm10 10l.94 2.06.94-2.06 2.06-.94-2.06-.94-.94-2.06-.94 2.06-2.06.94z\"/><path d=\"M17.41 7.96l-1.37-1.37c-.4-.4-.92-.59-1.43-.59-.52 0-1.04.2-1.43.59L10.3 9.45l-7.72 7.72c-.78.78-.78 2.05 0 2.83L4 21.41c.39.39.9.59 1.41.59.51 0 1.02-.2 1.41-.59l7.78-7.78 2.81-2.81c.8-.78.8-2.07 0-2.86zM5.41 20L4 18.59l7.72-7.72 1.47 1.35L5.41 20z\"/>\n",
              "  </svg>\n",
              "      </button>\n",
              "      \n",
              "  <style>\n",
              "    .colab-df-container {\n",
              "      display:flex;\n",
              "      flex-wrap:wrap;\n",
              "      gap: 12px;\n",
              "    }\n",
              "\n",
              "    .colab-df-convert {\n",
              "      background-color: #E8F0FE;\n",
              "      border: none;\n",
              "      border-radius: 50%;\n",
              "      cursor: pointer;\n",
              "      display: none;\n",
              "      fill: #1967D2;\n",
              "      height: 32px;\n",
              "      padding: 0 0 0 0;\n",
              "      width: 32px;\n",
              "    }\n",
              "\n",
              "    .colab-df-convert:hover {\n",
              "      background-color: #E2EBFA;\n",
              "      box-shadow: 0px 1px 2px rgba(60, 64, 67, 0.3), 0px 1px 3px 1px rgba(60, 64, 67, 0.15);\n",
              "      fill: #174EA6;\n",
              "    }\n",
              "\n",
              "    [theme=dark] .colab-df-convert {\n",
              "      background-color: #3B4455;\n",
              "      fill: #D2E3FC;\n",
              "    }\n",
              "\n",
              "    [theme=dark] .colab-df-convert:hover {\n",
              "      background-color: #434B5C;\n",
              "      box-shadow: 0px 1px 3px 1px rgba(0, 0, 0, 0.15);\n",
              "      filter: drop-shadow(0px 1px 2px rgba(0, 0, 0, 0.3));\n",
              "      fill: #FFFFFF;\n",
              "    }\n",
              "  </style>\n",
              "\n",
              "      <script>\n",
              "        const buttonEl =\n",
              "          document.querySelector('#df-01f61c87-f3b6-4e15-9408-6642907928e4 button.colab-df-convert');\n",
              "        buttonEl.style.display =\n",
              "          google.colab.kernel.accessAllowed ? 'block' : 'none';\n",
              "\n",
              "        async function convertToInteractive(key) {\n",
              "          const element = document.querySelector('#df-01f61c87-f3b6-4e15-9408-6642907928e4');\n",
              "          const dataTable =\n",
              "            await google.colab.kernel.invokeFunction('convertToInteractive',\n",
              "                                                     [key], {});\n",
              "          if (!dataTable) return;\n",
              "\n",
              "          const docLinkHtml = 'Like what you see? Visit the ' +\n",
              "            '<a target=\"_blank\" href=https://colab.research.google.com/notebooks/data_table.ipynb>data table notebook</a>'\n",
              "            + ' to learn more about interactive tables.';\n",
              "          element.innerHTML = '';\n",
              "          dataTable['output_type'] = 'display_data';\n",
              "          await google.colab.output.renderOutput(dataTable, element);\n",
              "          const docLink = document.createElement('div');\n",
              "          docLink.innerHTML = docLinkHtml;\n",
              "          element.appendChild(docLink);\n",
              "        }\n",
              "      </script>\n",
              "    </div>\n",
              "  </div>\n",
              "  "
            ]
          },
          "metadata": {},
          "execution_count": 5
        }
      ],
      "source": [
        "data = pd.read_csv('/content/PS_20174392719_1491204439457_log.csv')\n",
        "data.head()"
      ]
    },
    {
      "cell_type": "markdown",
      "id": "b221d6b2",
      "metadata": {
        "papermill": {
          "duration": 0.004797,
          "end_time": "2022-08-17T22:07:20.624092",
          "exception": false,
          "start_time": "2022-08-17T22:07:20.619295",
          "status": "completed"
        },
        "tags": [],
        "id": "b221d6b2"
      },
      "source": [
        "# Study and preparing data"
      ]
    },
    {
      "cell_type": "code",
      "execution_count": 6,
      "id": "9aadebf8",
      "metadata": {
        "execution": {
          "iopub.execute_input": "2022-08-17T22:07:20.635799Z",
          "iopub.status.busy": "2022-08-17T22:07:20.635347Z",
          "iopub.status.idle": "2022-08-17T22:07:21.538422Z",
          "shell.execute_reply": "2022-08-17T22:07:21.537233Z"
        },
        "papermill": {
          "duration": 0.911622,
          "end_time": "2022-08-17T22:07:21.540734",
          "exception": false,
          "start_time": "2022-08-17T22:07:20.629112",
          "status": "completed"
        },
        "tags": [],
        "id": "9aadebf8",
        "outputId": "a4b21db9-ce40-4e88-ad48-f4db2a437933",
        "colab": {
          "base_uri": "https://localhost:8080/"
        }
      },
      "outputs": [
        {
          "output_type": "execute_result",
          "data": {
            "text/plain": [
              "step              0\n",
              "type              0\n",
              "amount            0\n",
              "nameOrig          1\n",
              "oldbalanceOrg     1\n",
              "newbalanceOrig    1\n",
              "nameDest          1\n",
              "oldbalanceDest    1\n",
              "newbalanceDest    1\n",
              "isFraud           1\n",
              "isFlaggedFraud    1\n",
              "dtype: int64"
            ]
          },
          "metadata": {},
          "execution_count": 6
        }
      ],
      "source": [
        "#Cheking for Null values\n",
        "\n",
        "data.isnull().sum()  #does not have any null values"
      ]
    },
    {
      "cell_type": "code",
      "execution_count": 7,
      "id": "0e46506f",
      "metadata": {
        "execution": {
          "iopub.execute_input": "2022-08-17T22:07:21.553051Z",
          "iopub.status.busy": "2022-08-17T22:07:21.552350Z",
          "iopub.status.idle": "2022-08-17T22:07:23.470146Z",
          "shell.execute_reply": "2022-08-17T22:07:23.468804Z"
        },
        "papermill": {
          "duration": 1.926916,
          "end_time": "2022-08-17T22:07:23.472895",
          "exception": false,
          "start_time": "2022-08-17T22:07:21.545979",
          "status": "completed"
        },
        "tags": [],
        "id": "0e46506f",
        "outputId": "1ef2444c-6a90-4ee0-f2d3-afbe80b16831",
        "colab": {
          "base_uri": "https://localhost:8080/",
          "height": 300
        }
      },
      "outputs": [
        {
          "output_type": "execute_result",
          "data": {
            "text/plain": [
              "                step        amount  oldbalanceOrg  newbalanceOrig  \\\n",
              "count  274057.000000  2.740570e+05   2.740560e+05    2.740560e+05   \n",
              "mean       11.104610  1.778036e+05   8.827004e+05    9.013853e+05   \n",
              "std         2.513116  3.087131e+05   2.818221e+06    2.855856e+06   \n",
              "min         1.000000  3.000000e-01   0.000000e+00    0.000000e+00   \n",
              "25%         9.000000  1.257283e+04   0.000000e+00    0.000000e+00   \n",
              "50%        11.000000  7.601030e+04   1.862850e+04    0.000000e+00   \n",
              "75%        13.000000  2.315638e+05   1.838186e+05    2.220743e+05   \n",
              "max        15.000000  1.000000e+07   3.893942e+07    3.894623e+07   \n",
              "\n",
              "       oldbalanceDest  newbalanceDest        isFraud  isFlaggedFraud  \n",
              "count    2.740560e+05    2.740560e+05  274056.000000        274056.0  \n",
              "mean     9.659261e+05    1.195209e+06       0.000617             0.0  \n",
              "std      2.364294e+06    2.604344e+06       0.024825             0.0  \n",
              "min      0.000000e+00    0.000000e+00       0.000000             0.0  \n",
              "25%      0.000000e+00    0.000000e+00       0.000000             0.0  \n",
              "50%      7.576453e+04    1.762851e+05       0.000000             0.0  \n",
              "75%      8.332276e+05    1.232287e+06       0.000000             0.0  \n",
              "max      4.133844e+07    4.138365e+07       1.000000             0.0  "
            ],
            "text/html": [
              "\n",
              "  <div id=\"df-36f882df-68ca-4ef2-9073-c191b04438d0\">\n",
              "    <div class=\"colab-df-container\">\n",
              "      <div>\n",
              "<style scoped>\n",
              "    .dataframe tbody tr th:only-of-type {\n",
              "        vertical-align: middle;\n",
              "    }\n",
              "\n",
              "    .dataframe tbody tr th {\n",
              "        vertical-align: top;\n",
              "    }\n",
              "\n",
              "    .dataframe thead th {\n",
              "        text-align: right;\n",
              "    }\n",
              "</style>\n",
              "<table border=\"1\" class=\"dataframe\">\n",
              "  <thead>\n",
              "    <tr style=\"text-align: right;\">\n",
              "      <th></th>\n",
              "      <th>step</th>\n",
              "      <th>amount</th>\n",
              "      <th>oldbalanceOrg</th>\n",
              "      <th>newbalanceOrig</th>\n",
              "      <th>oldbalanceDest</th>\n",
              "      <th>newbalanceDest</th>\n",
              "      <th>isFraud</th>\n",
              "      <th>isFlaggedFraud</th>\n",
              "    </tr>\n",
              "  </thead>\n",
              "  <tbody>\n",
              "    <tr>\n",
              "      <th>count</th>\n",
              "      <td>274057.000000</td>\n",
              "      <td>2.740570e+05</td>\n",
              "      <td>2.740560e+05</td>\n",
              "      <td>2.740560e+05</td>\n",
              "      <td>2.740560e+05</td>\n",
              "      <td>2.740560e+05</td>\n",
              "      <td>274056.000000</td>\n",
              "      <td>274056.0</td>\n",
              "    </tr>\n",
              "    <tr>\n",
              "      <th>mean</th>\n",
              "      <td>11.104610</td>\n",
              "      <td>1.778036e+05</td>\n",
              "      <td>8.827004e+05</td>\n",
              "      <td>9.013853e+05</td>\n",
              "      <td>9.659261e+05</td>\n",
              "      <td>1.195209e+06</td>\n",
              "      <td>0.000617</td>\n",
              "      <td>0.0</td>\n",
              "    </tr>\n",
              "    <tr>\n",
              "      <th>std</th>\n",
              "      <td>2.513116</td>\n",
              "      <td>3.087131e+05</td>\n",
              "      <td>2.818221e+06</td>\n",
              "      <td>2.855856e+06</td>\n",
              "      <td>2.364294e+06</td>\n",
              "      <td>2.604344e+06</td>\n",
              "      <td>0.024825</td>\n",
              "      <td>0.0</td>\n",
              "    </tr>\n",
              "    <tr>\n",
              "      <th>min</th>\n",
              "      <td>1.000000</td>\n",
              "      <td>3.000000e-01</td>\n",
              "      <td>0.000000e+00</td>\n",
              "      <td>0.000000e+00</td>\n",
              "      <td>0.000000e+00</td>\n",
              "      <td>0.000000e+00</td>\n",
              "      <td>0.000000</td>\n",
              "      <td>0.0</td>\n",
              "    </tr>\n",
              "    <tr>\n",
              "      <th>25%</th>\n",
              "      <td>9.000000</td>\n",
              "      <td>1.257283e+04</td>\n",
              "      <td>0.000000e+00</td>\n",
              "      <td>0.000000e+00</td>\n",
              "      <td>0.000000e+00</td>\n",
              "      <td>0.000000e+00</td>\n",
              "      <td>0.000000</td>\n",
              "      <td>0.0</td>\n",
              "    </tr>\n",
              "    <tr>\n",
              "      <th>50%</th>\n",
              "      <td>11.000000</td>\n",
              "      <td>7.601030e+04</td>\n",
              "      <td>1.862850e+04</td>\n",
              "      <td>0.000000e+00</td>\n",
              "      <td>7.576453e+04</td>\n",
              "      <td>1.762851e+05</td>\n",
              "      <td>0.000000</td>\n",
              "      <td>0.0</td>\n",
              "    </tr>\n",
              "    <tr>\n",
              "      <th>75%</th>\n",
              "      <td>13.000000</td>\n",
              "      <td>2.315638e+05</td>\n",
              "      <td>1.838186e+05</td>\n",
              "      <td>2.220743e+05</td>\n",
              "      <td>8.332276e+05</td>\n",
              "      <td>1.232287e+06</td>\n",
              "      <td>0.000000</td>\n",
              "      <td>0.0</td>\n",
              "    </tr>\n",
              "    <tr>\n",
              "      <th>max</th>\n",
              "      <td>15.000000</td>\n",
              "      <td>1.000000e+07</td>\n",
              "      <td>3.893942e+07</td>\n",
              "      <td>3.894623e+07</td>\n",
              "      <td>4.133844e+07</td>\n",
              "      <td>4.138365e+07</td>\n",
              "      <td>1.000000</td>\n",
              "      <td>0.0</td>\n",
              "    </tr>\n",
              "  </tbody>\n",
              "</table>\n",
              "</div>\n",
              "      <button class=\"colab-df-convert\" onclick=\"convertToInteractive('df-36f882df-68ca-4ef2-9073-c191b04438d0')\"\n",
              "              title=\"Convert this dataframe to an interactive table.\"\n",
              "              style=\"display:none;\">\n",
              "        \n",
              "  <svg xmlns=\"http://www.w3.org/2000/svg\" height=\"24px\"viewBox=\"0 0 24 24\"\n",
              "       width=\"24px\">\n",
              "    <path d=\"M0 0h24v24H0V0z\" fill=\"none\"/>\n",
              "    <path d=\"M18.56 5.44l.94 2.06.94-2.06 2.06-.94-2.06-.94-.94-2.06-.94 2.06-2.06.94zm-11 1L8.5 8.5l.94-2.06 2.06-.94-2.06-.94L8.5 2.5l-.94 2.06-2.06.94zm10 10l.94 2.06.94-2.06 2.06-.94-2.06-.94-.94-2.06-.94 2.06-2.06.94z\"/><path d=\"M17.41 7.96l-1.37-1.37c-.4-.4-.92-.59-1.43-.59-.52 0-1.04.2-1.43.59L10.3 9.45l-7.72 7.72c-.78.78-.78 2.05 0 2.83L4 21.41c.39.39.9.59 1.41.59.51 0 1.02-.2 1.41-.59l7.78-7.78 2.81-2.81c.8-.78.8-2.07 0-2.86zM5.41 20L4 18.59l7.72-7.72 1.47 1.35L5.41 20z\"/>\n",
              "  </svg>\n",
              "      </button>\n",
              "      \n",
              "  <style>\n",
              "    .colab-df-container {\n",
              "      display:flex;\n",
              "      flex-wrap:wrap;\n",
              "      gap: 12px;\n",
              "    }\n",
              "\n",
              "    .colab-df-convert {\n",
              "      background-color: #E8F0FE;\n",
              "      border: none;\n",
              "      border-radius: 50%;\n",
              "      cursor: pointer;\n",
              "      display: none;\n",
              "      fill: #1967D2;\n",
              "      height: 32px;\n",
              "      padding: 0 0 0 0;\n",
              "      width: 32px;\n",
              "    }\n",
              "\n",
              "    .colab-df-convert:hover {\n",
              "      background-color: #E2EBFA;\n",
              "      box-shadow: 0px 1px 2px rgba(60, 64, 67, 0.3), 0px 1px 3px 1px rgba(60, 64, 67, 0.15);\n",
              "      fill: #174EA6;\n",
              "    }\n",
              "\n",
              "    [theme=dark] .colab-df-convert {\n",
              "      background-color: #3B4455;\n",
              "      fill: #D2E3FC;\n",
              "    }\n",
              "\n",
              "    [theme=dark] .colab-df-convert:hover {\n",
              "      background-color: #434B5C;\n",
              "      box-shadow: 0px 1px 3px 1px rgba(0, 0, 0, 0.15);\n",
              "      filter: drop-shadow(0px 1px 2px rgba(0, 0, 0, 0.3));\n",
              "      fill: #FFFFFF;\n",
              "    }\n",
              "  </style>\n",
              "\n",
              "      <script>\n",
              "        const buttonEl =\n",
              "          document.querySelector('#df-36f882df-68ca-4ef2-9073-c191b04438d0 button.colab-df-convert');\n",
              "        buttonEl.style.display =\n",
              "          google.colab.kernel.accessAllowed ? 'block' : 'none';\n",
              "\n",
              "        async function convertToInteractive(key) {\n",
              "          const element = document.querySelector('#df-36f882df-68ca-4ef2-9073-c191b04438d0');\n",
              "          const dataTable =\n",
              "            await google.colab.kernel.invokeFunction('convertToInteractive',\n",
              "                                                     [key], {});\n",
              "          if (!dataTable) return;\n",
              "\n",
              "          const docLinkHtml = 'Like what you see? Visit the ' +\n",
              "            '<a target=\"_blank\" href=https://colab.research.google.com/notebooks/data_table.ipynb>data table notebook</a>'\n",
              "            + ' to learn more about interactive tables.';\n",
              "          element.innerHTML = '';\n",
              "          dataTable['output_type'] = 'display_data';\n",
              "          await google.colab.output.renderOutput(dataTable, element);\n",
              "          const docLink = document.createElement('div');\n",
              "          docLink.innerHTML = docLinkHtml;\n",
              "          element.appendChild(docLink);\n",
              "        }\n",
              "      </script>\n",
              "    </div>\n",
              "  </div>\n",
              "  "
            ]
          },
          "metadata": {},
          "execution_count": 7
        }
      ],
      "source": [
        "data.describe()"
      ]
    },
    {
      "cell_type": "markdown",
      "id": "85bda799",
      "metadata": {
        "execution": {
          "iopub.execute_input": "2022-08-15T21:54:58.279973Z",
          "iopub.status.busy": "2022-08-15T21:54:58.279391Z",
          "iopub.status.idle": "2022-08-15T21:54:58.284976Z",
          "shell.execute_reply": "2022-08-15T21:54:58.283811Z",
          "shell.execute_reply.started": "2022-08-15T21:54:58.279926Z"
        },
        "papermill": {
          "duration": 0.005186,
          "end_time": "2022-08-17T22:07:23.483955",
          "exception": false,
          "start_time": "2022-08-17T22:07:23.478769",
          "status": "completed"
        },
        "tags": [],
        "id": "85bda799"
      },
      "source": [
        "# type of transaction present in Dataset"
      ]
    },
    {
      "cell_type": "code",
      "execution_count": 8,
      "id": "0f3b9e31",
      "metadata": {
        "execution": {
          "iopub.execute_input": "2022-08-17T22:07:23.496780Z",
          "iopub.status.busy": "2022-08-17T22:07:23.496069Z",
          "iopub.status.idle": "2022-08-17T22:07:24.886160Z",
          "shell.execute_reply": "2022-08-17T22:07:24.884929Z"
        },
        "papermill": {
          "duration": 1.399551,
          "end_time": "2022-08-17T22:07:24.888842",
          "exception": false,
          "start_time": "2022-08-17T22:07:23.489291",
          "status": "completed"
        },
        "tags": [],
        "id": "0f3b9e31",
        "outputId": "9733f49e-ada4-4fea-ef6e-388c07305b56",
        "colab": {
          "base_uri": "https://localhost:8080/",
          "height": 542
        }
      },
      "outputs": [
        {
          "output_type": "display_data",
          "data": {
            "text/html": [
              "<html>\n",
              "<head><meta charset=\"utf-8\" /></head>\n",
              "<body>\n",
              "    <div>            <script src=\"https://cdnjs.cloudflare.com/ajax/libs/mathjax/2.7.5/MathJax.js?config=TeX-AMS-MML_SVG\"></script><script type=\"text/javascript\">if (window.MathJax && window.MathJax.Hub && window.MathJax.Hub.Config) {window.MathJax.Hub.Config({SVG: {font: \"STIX-Web\"}});}</script>                <script type=\"text/javascript\">window.PlotlyConfig = {MathJaxConfig: 'local'};</script>\n",
              "        <script src=\"https://cdn.plot.ly/plotly-2.18.2.min.js\"></script>                <div id=\"b0150e93-8ab0-464e-83c7-fc47cfb6d978\" class=\"plotly-graph-div\" style=\"height:525px; width:100%;\"></div>            <script type=\"text/javascript\">                                    window.PLOTLYENV=window.PLOTLYENV || {};                                    if (document.getElementById(\"b0150e93-8ab0-464e-83c7-fc47cfb6d978\")) {                    Plotly.newPlot(                        \"b0150e93-8ab0-464e-83c7-fc47cfb6d978\",                        [{\"domain\":{\"x\":[0.0,1.0],\"y\":[0.0,1.0]},\"hole\":0.4,\"hovertemplate\":\"label=%{label}<br>value=%{value}<extra></extra>\",\"labels\":[\"PAYMENT\",\"CASH_OUT\",\"CASH_IN\",\"TRANSFER\",\"DEBIT\"],\"legendgroup\":\"\",\"name\":\"\",\"showlegend\":true,\"values\":[96310,94925,57745,22998,2079],\"type\":\"pie\"}],                        {\"template\":{\"data\":{\"histogram2dcontour\":[{\"type\":\"histogram2dcontour\",\"colorbar\":{\"outlinewidth\":0,\"ticks\":\"\"},\"colorscale\":[[0.0,\"#0d0887\"],[0.1111111111111111,\"#46039f\"],[0.2222222222222222,\"#7201a8\"],[0.3333333333333333,\"#9c179e\"],[0.4444444444444444,\"#bd3786\"],[0.5555555555555556,\"#d8576b\"],[0.6666666666666666,\"#ed7953\"],[0.7777777777777778,\"#fb9f3a\"],[0.8888888888888888,\"#fdca26\"],[1.0,\"#f0f921\"]]}],\"choropleth\":[{\"type\":\"choropleth\",\"colorbar\":{\"outlinewidth\":0,\"ticks\":\"\"}}],\"histogram2d\":[{\"type\":\"histogram2d\",\"colorbar\":{\"outlinewidth\":0,\"ticks\":\"\"},\"colorscale\":[[0.0,\"#0d0887\"],[0.1111111111111111,\"#46039f\"],[0.2222222222222222,\"#7201a8\"],[0.3333333333333333,\"#9c179e\"],[0.4444444444444444,\"#bd3786\"],[0.5555555555555556,\"#d8576b\"],[0.6666666666666666,\"#ed7953\"],[0.7777777777777778,\"#fb9f3a\"],[0.8888888888888888,\"#fdca26\"],[1.0,\"#f0f921\"]]}],\"heatmap\":[{\"type\":\"heatmap\",\"colorbar\":{\"outlinewidth\":0,\"ticks\":\"\"},\"colorscale\":[[0.0,\"#0d0887\"],[0.1111111111111111,\"#46039f\"],[0.2222222222222222,\"#7201a8\"],[0.3333333333333333,\"#9c179e\"],[0.4444444444444444,\"#bd3786\"],[0.5555555555555556,\"#d8576b\"],[0.6666666666666666,\"#ed7953\"],[0.7777777777777778,\"#fb9f3a\"],[0.8888888888888888,\"#fdca26\"],[1.0,\"#f0f921\"]]}],\"heatmapgl\":[{\"type\":\"heatmapgl\",\"colorbar\":{\"outlinewidth\":0,\"ticks\":\"\"},\"colorscale\":[[0.0,\"#0d0887\"],[0.1111111111111111,\"#46039f\"],[0.2222222222222222,\"#7201a8\"],[0.3333333333333333,\"#9c179e\"],[0.4444444444444444,\"#bd3786\"],[0.5555555555555556,\"#d8576b\"],[0.6666666666666666,\"#ed7953\"],[0.7777777777777778,\"#fb9f3a\"],[0.8888888888888888,\"#fdca26\"],[1.0,\"#f0f921\"]]}],\"contourcarpet\":[{\"type\":\"contourcarpet\",\"colorbar\":{\"outlinewidth\":0,\"ticks\":\"\"}}],\"contour\":[{\"type\":\"contour\",\"colorbar\":{\"outlinewidth\":0,\"ticks\":\"\"},\"colorscale\":[[0.0,\"#0d0887\"],[0.1111111111111111,\"#46039f\"],[0.2222222222222222,\"#7201a8\"],[0.3333333333333333,\"#9c179e\"],[0.4444444444444444,\"#bd3786\"],[0.5555555555555556,\"#d8576b\"],[0.6666666666666666,\"#ed7953\"],[0.7777777777777778,\"#fb9f3a\"],[0.8888888888888888,\"#fdca26\"],[1.0,\"#f0f921\"]]}],\"surface\":[{\"type\":\"surface\",\"colorbar\":{\"outlinewidth\":0,\"ticks\":\"\"},\"colorscale\":[[0.0,\"#0d0887\"],[0.1111111111111111,\"#46039f\"],[0.2222222222222222,\"#7201a8\"],[0.3333333333333333,\"#9c179e\"],[0.4444444444444444,\"#bd3786\"],[0.5555555555555556,\"#d8576b\"],[0.6666666666666666,\"#ed7953\"],[0.7777777777777778,\"#fb9f3a\"],[0.8888888888888888,\"#fdca26\"],[1.0,\"#f0f921\"]]}],\"mesh3d\":[{\"type\":\"mesh3d\",\"colorbar\":{\"outlinewidth\":0,\"ticks\":\"\"}}],\"scatter\":[{\"fillpattern\":{\"fillmode\":\"overlay\",\"size\":10,\"solidity\":0.2},\"type\":\"scatter\"}],\"parcoords\":[{\"type\":\"parcoords\",\"line\":{\"colorbar\":{\"outlinewidth\":0,\"ticks\":\"\"}}}],\"scatterpolargl\":[{\"type\":\"scatterpolargl\",\"marker\":{\"colorbar\":{\"outlinewidth\":0,\"ticks\":\"\"}}}],\"bar\":[{\"error_x\":{\"color\":\"#2a3f5f\"},\"error_y\":{\"color\":\"#2a3f5f\"},\"marker\":{\"line\":{\"color\":\"#E5ECF6\",\"width\":0.5},\"pattern\":{\"fillmode\":\"overlay\",\"size\":10,\"solidity\":0.2}},\"type\":\"bar\"}],\"scattergeo\":[{\"type\":\"scattergeo\",\"marker\":{\"colorbar\":{\"outlinewidth\":0,\"ticks\":\"\"}}}],\"scatterpolar\":[{\"type\":\"scatterpolar\",\"marker\":{\"colorbar\":{\"outlinewidth\":0,\"ticks\":\"\"}}}],\"histogram\":[{\"marker\":{\"pattern\":{\"fillmode\":\"overlay\",\"size\":10,\"solidity\":0.2}},\"type\":\"histogram\"}],\"scattergl\":[{\"type\":\"scattergl\",\"marker\":{\"colorbar\":{\"outlinewidth\":0,\"ticks\":\"\"}}}],\"scatter3d\":[{\"type\":\"scatter3d\",\"line\":{\"colorbar\":{\"outlinewidth\":0,\"ticks\":\"\"}},\"marker\":{\"colorbar\":{\"outlinewidth\":0,\"ticks\":\"\"}}}],\"scattermapbox\":[{\"type\":\"scattermapbox\",\"marker\":{\"colorbar\":{\"outlinewidth\":0,\"ticks\":\"\"}}}],\"scatterternary\":[{\"type\":\"scatterternary\",\"marker\":{\"colorbar\":{\"outlinewidth\":0,\"ticks\":\"\"}}}],\"scattercarpet\":[{\"type\":\"scattercarpet\",\"marker\":{\"colorbar\":{\"outlinewidth\":0,\"ticks\":\"\"}}}],\"carpet\":[{\"aaxis\":{\"endlinecolor\":\"#2a3f5f\",\"gridcolor\":\"white\",\"linecolor\":\"white\",\"minorgridcolor\":\"white\",\"startlinecolor\":\"#2a3f5f\"},\"baxis\":{\"endlinecolor\":\"#2a3f5f\",\"gridcolor\":\"white\",\"linecolor\":\"white\",\"minorgridcolor\":\"white\",\"startlinecolor\":\"#2a3f5f\"},\"type\":\"carpet\"}],\"table\":[{\"cells\":{\"fill\":{\"color\":\"#EBF0F8\"},\"line\":{\"color\":\"white\"}},\"header\":{\"fill\":{\"color\":\"#C8D4E3\"},\"line\":{\"color\":\"white\"}},\"type\":\"table\"}],\"barpolar\":[{\"marker\":{\"line\":{\"color\":\"#E5ECF6\",\"width\":0.5},\"pattern\":{\"fillmode\":\"overlay\",\"size\":10,\"solidity\":0.2}},\"type\":\"barpolar\"}],\"pie\":[{\"automargin\":true,\"type\":\"pie\"}]},\"layout\":{\"autotypenumbers\":\"strict\",\"colorway\":[\"#636efa\",\"#EF553B\",\"#00cc96\",\"#ab63fa\",\"#FFA15A\",\"#19d3f3\",\"#FF6692\",\"#B6E880\",\"#FF97FF\",\"#FECB52\"],\"font\":{\"color\":\"#2a3f5f\"},\"hovermode\":\"closest\",\"hoverlabel\":{\"align\":\"left\"},\"paper_bgcolor\":\"white\",\"plot_bgcolor\":\"#E5ECF6\",\"polar\":{\"bgcolor\":\"#E5ECF6\",\"angularaxis\":{\"gridcolor\":\"white\",\"linecolor\":\"white\",\"ticks\":\"\"},\"radialaxis\":{\"gridcolor\":\"white\",\"linecolor\":\"white\",\"ticks\":\"\"}},\"ternary\":{\"bgcolor\":\"#E5ECF6\",\"aaxis\":{\"gridcolor\":\"white\",\"linecolor\":\"white\",\"ticks\":\"\"},\"baxis\":{\"gridcolor\":\"white\",\"linecolor\":\"white\",\"ticks\":\"\"},\"caxis\":{\"gridcolor\":\"white\",\"linecolor\":\"white\",\"ticks\":\"\"}},\"coloraxis\":{\"colorbar\":{\"outlinewidth\":0,\"ticks\":\"\"}},\"colorscale\":{\"sequential\":[[0.0,\"#0d0887\"],[0.1111111111111111,\"#46039f\"],[0.2222222222222222,\"#7201a8\"],[0.3333333333333333,\"#9c179e\"],[0.4444444444444444,\"#bd3786\"],[0.5555555555555556,\"#d8576b\"],[0.6666666666666666,\"#ed7953\"],[0.7777777777777778,\"#fb9f3a\"],[0.8888888888888888,\"#fdca26\"],[1.0,\"#f0f921\"]],\"sequentialminus\":[[0.0,\"#0d0887\"],[0.1111111111111111,\"#46039f\"],[0.2222222222222222,\"#7201a8\"],[0.3333333333333333,\"#9c179e\"],[0.4444444444444444,\"#bd3786\"],[0.5555555555555556,\"#d8576b\"],[0.6666666666666666,\"#ed7953\"],[0.7777777777777778,\"#fb9f3a\"],[0.8888888888888888,\"#fdca26\"],[1.0,\"#f0f921\"]],\"diverging\":[[0,\"#8e0152\"],[0.1,\"#c51b7d\"],[0.2,\"#de77ae\"],[0.3,\"#f1b6da\"],[0.4,\"#fde0ef\"],[0.5,\"#f7f7f7\"],[0.6,\"#e6f5d0\"],[0.7,\"#b8e186\"],[0.8,\"#7fbc41\"],[0.9,\"#4d9221\"],[1,\"#276419\"]]},\"xaxis\":{\"gridcolor\":\"white\",\"linecolor\":\"white\",\"ticks\":\"\",\"title\":{\"standoff\":15},\"zerolinecolor\":\"white\",\"automargin\":true,\"zerolinewidth\":2},\"yaxis\":{\"gridcolor\":\"white\",\"linecolor\":\"white\",\"ticks\":\"\",\"title\":{\"standoff\":15},\"zerolinecolor\":\"white\",\"automargin\":true,\"zerolinewidth\":2},\"scene\":{\"xaxis\":{\"backgroundcolor\":\"#E5ECF6\",\"gridcolor\":\"white\",\"linecolor\":\"white\",\"showbackground\":true,\"ticks\":\"\",\"zerolinecolor\":\"white\",\"gridwidth\":2},\"yaxis\":{\"backgroundcolor\":\"#E5ECF6\",\"gridcolor\":\"white\",\"linecolor\":\"white\",\"showbackground\":true,\"ticks\":\"\",\"zerolinecolor\":\"white\",\"gridwidth\":2},\"zaxis\":{\"backgroundcolor\":\"#E5ECF6\",\"gridcolor\":\"white\",\"linecolor\":\"white\",\"showbackground\":true,\"ticks\":\"\",\"zerolinecolor\":\"white\",\"gridwidth\":2}},\"shapedefaults\":{\"line\":{\"color\":\"#2a3f5f\"}},\"annotationdefaults\":{\"arrowcolor\":\"#2a3f5f\",\"arrowhead\":0,\"arrowwidth\":1},\"geo\":{\"bgcolor\":\"white\",\"landcolor\":\"#E5ECF6\",\"subunitcolor\":\"white\",\"showland\":true,\"showlakes\":true,\"lakecolor\":\"white\"},\"title\":{\"x\":0.05},\"mapbox\":{\"style\":\"light\"}}},\"legend\":{\"tracegroupgap\":0},\"title\":{\"text\":\"Distribution of Transaction Type\"}},                        {\"responsive\": true}                    ).then(function(){\n",
              "                            \n",
              "var gd = document.getElementById('b0150e93-8ab0-464e-83c7-fc47cfb6d978');\n",
              "var x = new MutationObserver(function (mutations, observer) {{\n",
              "        var display = window.getComputedStyle(gd).display;\n",
              "        if (!display || display === 'none') {{\n",
              "            console.log([gd, 'removed!']);\n",
              "            Plotly.purge(gd);\n",
              "            observer.disconnect();\n",
              "        }}\n",
              "}});\n",
              "\n",
              "// Listen for the removal of the full notebook cells\n",
              "var notebookContainer = gd.closest('#notebook-container');\n",
              "if (notebookContainer) {{\n",
              "    x.observe(notebookContainer, {childList: true});\n",
              "}}\n",
              "\n",
              "// Listen for the clearing of the current output cell\n",
              "var outputEl = gd.closest('.output');\n",
              "if (outputEl) {{\n",
              "    x.observe(outputEl, {childList: true});\n",
              "}}\n",
              "\n",
              "                        })                };                            </script>        </div>\n",
              "</body>\n",
              "</html>"
            ]
          },
          "metadata": {}
        }
      ],
      "source": [
        "type_transaction = data[\"type\"].value_counts()\n",
        "transaction = type_transaction.index\n",
        "quantity = type_transaction.values\n",
        "\n",
        "# plotting pie chart\n",
        "fig = px.pie(data,\n",
        "            values = quantity,\n",
        "            names = transaction,\n",
        "            hole = 0.4,\n",
        "            title = \"Distribution of Transaction Type\")\n",
        "fig.show()"
      ]
    },
    {
      "cell_type": "markdown",
      "id": "c3cbe7db",
      "metadata": {
        "papermill": {
          "duration": 0.005558,
          "end_time": "2022-08-17T22:07:24.900420",
          "exception": false,
          "start_time": "2022-08-17T22:07:24.894862",
          "status": "completed"
        },
        "tags": [],
        "id": "c3cbe7db"
      },
      "source": [
        "# Checking for co relataion between the features with isFraud column"
      ]
    },
    {
      "cell_type": "code",
      "execution_count": 9,
      "id": "182b8d2c",
      "metadata": {
        "execution": {
          "iopub.execute_input": "2022-08-17T22:07:24.914361Z",
          "iopub.status.busy": "2022-08-17T22:07:24.913555Z",
          "iopub.status.idle": "2022-08-17T22:07:26.403795Z",
          "shell.execute_reply": "2022-08-17T22:07:26.402641Z"
        },
        "papermill": {
          "duration": 1.500226,
          "end_time": "2022-08-17T22:07:26.406475",
          "exception": false,
          "start_time": "2022-08-17T22:07:24.906249",
          "status": "completed"
        },
        "tags": [],
        "id": "182b8d2c",
        "outputId": "bc9ed5fd-e57b-4ab4-f4c4-2ae3e9a1226e",
        "colab": {
          "base_uri": "https://localhost:8080/"
        }
      },
      "outputs": [
        {
          "output_type": "stream",
          "name": "stderr",
          "text": [
            "<ipython-input-9-745150298315>:1: FutureWarning:\n",
            "\n",
            "The default value of numeric_only in DataFrame.corr is deprecated. In a future version, it will default to False. Select only valid columns or specify the value of numeric_only to silence this warning.\n",
            "\n"
          ]
        },
        {
          "output_type": "execute_result",
          "data": {
            "text/plain": [
              "isFraud           1.000000\n",
              "amount            0.048907\n",
              "oldbalanceOrg    -0.000935\n",
              "newbalanceDest   -0.004107\n",
              "newbalanceOrig   -0.007667\n",
              "oldbalanceDest   -0.007737\n",
              "step             -0.031857\n",
              "isFlaggedFraud         NaN\n",
              "Name: isFraud, dtype: float64"
            ]
          },
          "metadata": {},
          "execution_count": 9
        }
      ],
      "source": [
        "corr = data.corr()\n",
        "corr[\"isFraud\"].sort_values(ascending=False)"
      ]
    },
    {
      "cell_type": "markdown",
      "id": "e5ecbac3",
      "metadata": {
        "papermill": {
          "duration": 0.005628,
          "end_time": "2022-08-17T22:07:26.418055",
          "exception": false,
          "start_time": "2022-08-17T22:07:26.412427",
          "status": "completed"
        },
        "tags": [],
        "id": "e5ecbac3"
      },
      "source": [
        "# transform the categorical features into numerical."
      ]
    },
    {
      "cell_type": "code",
      "execution_count": 10,
      "id": "4f9805a4",
      "metadata": {
        "execution": {
          "iopub.execute_input": "2022-08-17T22:07:26.432792Z",
          "iopub.status.busy": "2022-08-17T22:07:26.431102Z",
          "iopub.status.idle": "2022-08-17T22:07:27.324315Z",
          "shell.execute_reply": "2022-08-17T22:07:27.323108Z"
        },
        "papermill": {
          "duration": 0.903417,
          "end_time": "2022-08-17T22:07:27.327296",
          "exception": false,
          "start_time": "2022-08-17T22:07:26.423879",
          "status": "completed"
        },
        "tags": [],
        "id": "4f9805a4",
        "outputId": "26623ba8-27b4-4808-c07b-31bb3ec40ee7",
        "colab": {
          "base_uri": "https://localhost:8080/",
          "height": 206
        }
      },
      "outputs": [
        {
          "output_type": "execute_result",
          "data": {
            "text/plain": [
              "   step  type    amount     nameOrig  oldbalanceOrg  newbalanceOrig  \\\n",
              "0     1     2   9839.64  C1231006815       170136.0       160296.36   \n",
              "1     1     2   1864.28  C1666544295        21249.0        19384.72   \n",
              "2     1     4    181.00  C1305486145          181.0            0.00   \n",
              "3     1     1    181.00   C840083671          181.0            0.00   \n",
              "4     1     2  11668.14  C2048537720        41554.0        29885.86   \n",
              "\n",
              "      nameDest  oldbalanceDest  newbalanceDest   isFraud  isFlaggedFraud  \n",
              "0  M1979787155             0.0             0.0  No Fraud             0.0  \n",
              "1  M2044282225             0.0             0.0  No Fraud             0.0  \n",
              "2   C553264065             0.0             0.0     Fraud             0.0  \n",
              "3    C38997010         21182.0             0.0     Fraud             0.0  \n",
              "4  M1230701703             0.0             0.0  No Fraud             0.0  "
            ],
            "text/html": [
              "\n",
              "  <div id=\"df-ddcc11d6-77f0-4587-939a-d0a5721d0d60\">\n",
              "    <div class=\"colab-df-container\">\n",
              "      <div>\n",
              "<style scoped>\n",
              "    .dataframe tbody tr th:only-of-type {\n",
              "        vertical-align: middle;\n",
              "    }\n",
              "\n",
              "    .dataframe tbody tr th {\n",
              "        vertical-align: top;\n",
              "    }\n",
              "\n",
              "    .dataframe thead th {\n",
              "        text-align: right;\n",
              "    }\n",
              "</style>\n",
              "<table border=\"1\" class=\"dataframe\">\n",
              "  <thead>\n",
              "    <tr style=\"text-align: right;\">\n",
              "      <th></th>\n",
              "      <th>step</th>\n",
              "      <th>type</th>\n",
              "      <th>amount</th>\n",
              "      <th>nameOrig</th>\n",
              "      <th>oldbalanceOrg</th>\n",
              "      <th>newbalanceOrig</th>\n",
              "      <th>nameDest</th>\n",
              "      <th>oldbalanceDest</th>\n",
              "      <th>newbalanceDest</th>\n",
              "      <th>isFraud</th>\n",
              "      <th>isFlaggedFraud</th>\n",
              "    </tr>\n",
              "  </thead>\n",
              "  <tbody>\n",
              "    <tr>\n",
              "      <th>0</th>\n",
              "      <td>1</td>\n",
              "      <td>2</td>\n",
              "      <td>9839.64</td>\n",
              "      <td>C1231006815</td>\n",
              "      <td>170136.0</td>\n",
              "      <td>160296.36</td>\n",
              "      <td>M1979787155</td>\n",
              "      <td>0.0</td>\n",
              "      <td>0.0</td>\n",
              "      <td>No Fraud</td>\n",
              "      <td>0.0</td>\n",
              "    </tr>\n",
              "    <tr>\n",
              "      <th>1</th>\n",
              "      <td>1</td>\n",
              "      <td>2</td>\n",
              "      <td>1864.28</td>\n",
              "      <td>C1666544295</td>\n",
              "      <td>21249.0</td>\n",
              "      <td>19384.72</td>\n",
              "      <td>M2044282225</td>\n",
              "      <td>0.0</td>\n",
              "      <td>0.0</td>\n",
              "      <td>No Fraud</td>\n",
              "      <td>0.0</td>\n",
              "    </tr>\n",
              "    <tr>\n",
              "      <th>2</th>\n",
              "      <td>1</td>\n",
              "      <td>4</td>\n",
              "      <td>181.00</td>\n",
              "      <td>C1305486145</td>\n",
              "      <td>181.0</td>\n",
              "      <td>0.00</td>\n",
              "      <td>C553264065</td>\n",
              "      <td>0.0</td>\n",
              "      <td>0.0</td>\n",
              "      <td>Fraud</td>\n",
              "      <td>0.0</td>\n",
              "    </tr>\n",
              "    <tr>\n",
              "      <th>3</th>\n",
              "      <td>1</td>\n",
              "      <td>1</td>\n",
              "      <td>181.00</td>\n",
              "      <td>C840083671</td>\n",
              "      <td>181.0</td>\n",
              "      <td>0.00</td>\n",
              "      <td>C38997010</td>\n",
              "      <td>21182.0</td>\n",
              "      <td>0.0</td>\n",
              "      <td>Fraud</td>\n",
              "      <td>0.0</td>\n",
              "    </tr>\n",
              "    <tr>\n",
              "      <th>4</th>\n",
              "      <td>1</td>\n",
              "      <td>2</td>\n",
              "      <td>11668.14</td>\n",
              "      <td>C2048537720</td>\n",
              "      <td>41554.0</td>\n",
              "      <td>29885.86</td>\n",
              "      <td>M1230701703</td>\n",
              "      <td>0.0</td>\n",
              "      <td>0.0</td>\n",
              "      <td>No Fraud</td>\n",
              "      <td>0.0</td>\n",
              "    </tr>\n",
              "  </tbody>\n",
              "</table>\n",
              "</div>\n",
              "      <button class=\"colab-df-convert\" onclick=\"convertToInteractive('df-ddcc11d6-77f0-4587-939a-d0a5721d0d60')\"\n",
              "              title=\"Convert this dataframe to an interactive table.\"\n",
              "              style=\"display:none;\">\n",
              "        \n",
              "  <svg xmlns=\"http://www.w3.org/2000/svg\" height=\"24px\"viewBox=\"0 0 24 24\"\n",
              "       width=\"24px\">\n",
              "    <path d=\"M0 0h24v24H0V0z\" fill=\"none\"/>\n",
              "    <path d=\"M18.56 5.44l.94 2.06.94-2.06 2.06-.94-2.06-.94-.94-2.06-.94 2.06-2.06.94zm-11 1L8.5 8.5l.94-2.06 2.06-.94-2.06-.94L8.5 2.5l-.94 2.06-2.06.94zm10 10l.94 2.06.94-2.06 2.06-.94-2.06-.94-.94-2.06-.94 2.06-2.06.94z\"/><path d=\"M17.41 7.96l-1.37-1.37c-.4-.4-.92-.59-1.43-.59-.52 0-1.04.2-1.43.59L10.3 9.45l-7.72 7.72c-.78.78-.78 2.05 0 2.83L4 21.41c.39.39.9.59 1.41.59.51 0 1.02-.2 1.41-.59l7.78-7.78 2.81-2.81c.8-.78.8-2.07 0-2.86zM5.41 20L4 18.59l7.72-7.72 1.47 1.35L5.41 20z\"/>\n",
              "  </svg>\n",
              "      </button>\n",
              "      \n",
              "  <style>\n",
              "    .colab-df-container {\n",
              "      display:flex;\n",
              "      flex-wrap:wrap;\n",
              "      gap: 12px;\n",
              "    }\n",
              "\n",
              "    .colab-df-convert {\n",
              "      background-color: #E8F0FE;\n",
              "      border: none;\n",
              "      border-radius: 50%;\n",
              "      cursor: pointer;\n",
              "      display: none;\n",
              "      fill: #1967D2;\n",
              "      height: 32px;\n",
              "      padding: 0 0 0 0;\n",
              "      width: 32px;\n",
              "    }\n",
              "\n",
              "    .colab-df-convert:hover {\n",
              "      background-color: #E2EBFA;\n",
              "      box-shadow: 0px 1px 2px rgba(60, 64, 67, 0.3), 0px 1px 3px 1px rgba(60, 64, 67, 0.15);\n",
              "      fill: #174EA6;\n",
              "    }\n",
              "\n",
              "    [theme=dark] .colab-df-convert {\n",
              "      background-color: #3B4455;\n",
              "      fill: #D2E3FC;\n",
              "    }\n",
              "\n",
              "    [theme=dark] .colab-df-convert:hover {\n",
              "      background-color: #434B5C;\n",
              "      box-shadow: 0px 1px 3px 1px rgba(0, 0, 0, 0.15);\n",
              "      filter: drop-shadow(0px 1px 2px rgba(0, 0, 0, 0.3));\n",
              "      fill: #FFFFFF;\n",
              "    }\n",
              "  </style>\n",
              "\n",
              "      <script>\n",
              "        const buttonEl =\n",
              "          document.querySelector('#df-ddcc11d6-77f0-4587-939a-d0a5721d0d60 button.colab-df-convert');\n",
              "        buttonEl.style.display =\n",
              "          google.colab.kernel.accessAllowed ? 'block' : 'none';\n",
              "\n",
              "        async function convertToInteractive(key) {\n",
              "          const element = document.querySelector('#df-ddcc11d6-77f0-4587-939a-d0a5721d0d60');\n",
              "          const dataTable =\n",
              "            await google.colab.kernel.invokeFunction('convertToInteractive',\n",
              "                                                     [key], {});\n",
              "          if (!dataTable) return;\n",
              "\n",
              "          const docLinkHtml = 'Like what you see? Visit the ' +\n",
              "            '<a target=\"_blank\" href=https://colab.research.google.com/notebooks/data_table.ipynb>data table notebook</a>'\n",
              "            + ' to learn more about interactive tables.';\n",
              "          element.innerHTML = '';\n",
              "          dataTable['output_type'] = 'display_data';\n",
              "          await google.colab.output.renderOutput(dataTable, element);\n",
              "          const docLink = document.createElement('div');\n",
              "          docLink.innerHTML = docLinkHtml;\n",
              "          element.appendChild(docLink);\n",
              "        }\n",
              "      </script>\n",
              "    </div>\n",
              "  </div>\n",
              "  "
            ]
          },
          "metadata": {},
          "execution_count": 10
        }
      ],
      "source": [
        "data[\"type\"] = data[\"type\"].map({\"CASH_OUT\": 1,\n",
        "                                 \"PAYMENT\": 2,\n",
        "                                 \"CASH_IN\": 3,\n",
        "                                 \"TRANSFER\": 4,\n",
        "                                 \"DEBIT\": 5})\n",
        "data[\"isFraud\"] = data[\"isFraud\"].map({0: \"No Fraud\", 1: \"Fraud\"})\n",
        "data.head()"
      ]
    },
    {
      "cell_type": "markdown",
      "id": "b75e58ad",
      "metadata": {
        "papermill": {
          "duration": 0.006056,
          "end_time": "2022-08-17T22:07:27.339549",
          "exception": false,
          "start_time": "2022-08-17T22:07:27.333493",
          "status": "completed"
        },
        "tags": [],
        "id": "b75e58ad"
      },
      "source": [
        "# Online Payments Fraud Detection Model"
      ]
    },
    {
      "cell_type": "code",
      "execution_count": 11,
      "id": "d7a398c3",
      "metadata": {
        "execution": {
          "iopub.execute_input": "2022-08-17T22:07:27.354037Z",
          "iopub.status.busy": "2022-08-17T22:07:27.353025Z",
          "iopub.status.idle": "2022-08-17T22:07:27.358171Z",
          "shell.execute_reply": "2022-08-17T22:07:27.357343Z"
        },
        "papermill": {
          "duration": 0.015003,
          "end_time": "2022-08-17T22:07:27.360597",
          "exception": false,
          "start_time": "2022-08-17T22:07:27.345594",
          "status": "completed"
        },
        "tags": [],
        "id": "d7a398c3"
      },
      "outputs": [],
      "source": [
        "# CLassification model"
      ]
    },
    {
      "cell_type": "code",
      "execution_count": 12,
      "id": "23f0d5de",
      "metadata": {
        "execution": {
          "iopub.execute_input": "2022-08-17T22:07:27.375565Z",
          "iopub.status.busy": "2022-08-17T22:07:27.374524Z",
          "iopub.status.idle": "2022-08-17T22:07:29.485196Z",
          "shell.execute_reply": "2022-08-17T22:07:29.483562Z"
        },
        "papermill": {
          "duration": 2.122046,
          "end_time": "2022-08-17T22:07:29.488753",
          "exception": false,
          "start_time": "2022-08-17T22:07:27.366707",
          "status": "completed"
        },
        "tags": [],
        "id": "23f0d5de"
      },
      "outputs": [],
      "source": [
        "# Splitting the data\n",
        "\n",
        "from sklearn.model_selection import train_test_split\n",
        "x = np.array(data[[\"type\",\"amount\", \"oldbalanceOrg\", \"newbalanceOrig\"]])\n",
        "y = np.array(data[\"isFraud\"])"
      ]
    },
    {
      "cell_type": "code",
      "execution_count": 13,
      "id": "07c919f6",
      "metadata": {
        "execution": {
          "iopub.execute_input": "2022-08-17T22:07:29.509480Z",
          "iopub.status.busy": "2022-08-17T22:07:29.508575Z",
          "iopub.status.idle": "2022-08-17T22:07:31.911787Z",
          "shell.execute_reply": "2022-08-17T22:07:31.910724Z"
        },
        "papermill": {
          "duration": 2.416606,
          "end_time": "2022-08-17T22:07:31.914619",
          "exception": false,
          "start_time": "2022-08-17T22:07:29.498013",
          "status": "completed"
        },
        "tags": [],
        "id": "07c919f6"
      },
      "outputs": [],
      "source": [
        "# Training the data\n",
        "\n",
        "    # using Decision tree classifier\n",
        "from sklearn.tree import DecisionTreeClassifier\n",
        "x_train, x_test, y_train, y_test = train_test_split(x,y,random_state = 42)\n",
        "\n",
        "model = DecisionTreeClassifier()\n",
        "\n"
      ]
    },
    {
      "cell_type": "code",
      "execution_count": 19,
      "id": "8b013726",
      "metadata": {
        "execution": {
          "iopub.execute_input": "2022-08-17T22:08:24.308980Z",
          "iopub.status.busy": "2022-08-17T22:08:24.308253Z",
          "iopub.status.idle": "2022-08-17T22:08:24.314154Z",
          "shell.execute_reply": "2022-08-17T22:08:24.313362Z"
        },
        "papermill": {
          "duration": 0.015497,
          "end_time": "2022-08-17T22:08:24.316423",
          "exception": false,
          "start_time": "2022-08-17T22:08:24.300926",
          "status": "completed"
        },
        "tags": [],
        "id": "8b013726",
        "outputId": "3ed0e5fc-41fb-4b99-f502-54a23139e32e",
        "colab": {
          "base_uri": "https://localhost:8080/"
        }
      },
      "outputs": [
        {
          "output_type": "stream",
          "name": "stdout",
          "text": [
            "['No Fraud']\n"
          ]
        }
      ],
      "source": [
        "# Classifying the transaction by feeding input\n",
        "\n",
        "# Features = [type, amount, oldbalanceOrg, newbalanceOrig]\n",
        "features = np.array([[2, 11668.14, 41554.0, 29885.86]])\n",
        "print(model.predict(features))"
      ]
    },
    {
      "cell_type": "code",
      "source": [],
      "metadata": {
        "id": "TsrlNE6WKzfa"
      },
      "id": "TsrlNE6WKzfa",
      "execution_count": null,
      "outputs": []
    }
  ],
  "metadata": {
    "kernelspec": {
      "display_name": "Python 3",
      "language": "python",
      "name": "python3"
    },
    "language_info": {
      "codemirror_mode": {
        "name": "ipython",
        "version": 3
      },
      "file_extension": ".py",
      "mimetype": "text/x-python",
      "name": "python",
      "nbconvert_exporter": "python",
      "pygments_lexer": "ipython3",
      "version": "3.7.12"
    },
    "papermill": {
      "default_parameters": {},
      "duration": 95.473985,
      "end_time": "2022-08-17T22:08:25.759003",
      "environment_variables": {},
      "exception": null,
      "input_path": "__notebook__.ipynb",
      "output_path": "__notebook__.ipynb",
      "parameters": {},
      "start_time": "2022-08-17T22:06:50.285018",
      "version": "2.3.4"
    },
    "colab": {
      "provenance": []
    }
  },
  "nbformat": 4,
  "nbformat_minor": 5
}